{
 "cells": [
  {
   "cell_type": "markdown",
   "id": "73bb9973",
   "metadata": {
    "_kg_hide-input": true,
    "papermill": {
     "duration": 0.023303,
     "end_time": "2023-12-06T15:54:39.753004",
     "exception": false,
     "start_time": "2023-12-06T15:54:39.729701",
     "status": "completed"
    },
    "tags": []
   },
   "source": []
  },
  {
   "cell_type": "markdown",
   "id": "3ff2b28e",
   "metadata": {
    "papermill": {
     "duration": 0.022187,
     "end_time": "2023-12-06T15:54:39.797263",
     "exception": false,
     "start_time": "2023-12-06T15:54:39.775076",
     "status": "completed"
    },
    "tags": []
   },
   "source": [
    "# **68' Facial Landmark**"
   ]
  },
  {
   "cell_type": "markdown",
   "id": "cc032f65",
   "metadata": {
    "papermill": {
     "duration": 0.021529,
     "end_time": "2023-12-06T15:54:39.840720",
     "exception": false,
     "start_time": "2023-12-06T15:54:39.819191",
     "status": "completed"
    },
    "tags": []
   },
   "source": []
  },
  {
   "cell_type": "markdown",
   "id": "24129197",
   "metadata": {
    "papermill": {
     "duration": 0.021534,
     "end_time": "2023-12-06T15:54:39.884031",
     "exception": false,
     "start_time": "2023-12-06T15:54:39.862497",
     "status": "completed"
    },
    "tags": []
   },
   "source": [
    "# **Reading data and Preprocessing**"
   ]
  },
  {
   "cell_type": "code",
   "execution_count": 1,
   "id": "2be01389",
   "metadata": {
    "execution": {
     "iopub.execute_input": "2023-12-06T15:54:39.938798Z",
     "iopub.status.busy": "2023-12-06T15:54:39.938072Z",
     "iopub.status.idle": "2023-12-06T15:54:45.470272Z",
     "shell.execute_reply": "2023-12-06T15:54:45.469609Z",
     "shell.execute_reply.started": "2023-12-06T12:05:58.110889Z"
    },
    "papermill": {
     "duration": 5.564364,
     "end_time": "2023-12-06T15:54:45.470450",
     "exception": false,
     "start_time": "2023-12-06T15:54:39.906086",
     "status": "completed"
    },
    "tags": []
   },
   "outputs": [],
   "source": [
    "import pandas as pd\n",
    "import numpy as np\n",
    "import matplotlib.pyplot as plt\n",
    "from sklearn.model_selection import train_test_split\n",
    "import tensorflow as tf"
   ]
  },
  {
   "cell_type": "code",
   "execution_count": 2,
   "id": "d525e857",
   "metadata": {
    "execution": {
     "iopub.execute_input": "2023-12-06T15:54:45.520086Z",
     "iopub.status.busy": "2023-12-06T15:54:45.519472Z",
     "iopub.status.idle": "2023-12-06T15:54:45.521787Z",
     "shell.execute_reply": "2023-12-06T15:54:45.522213Z",
     "shell.execute_reply.started": "2023-12-06T12:06:01.801358Z"
    },
    "papermill": {
     "duration": 0.02971,
     "end_time": "2023-12-06T15:54:45.522354",
     "exception": false,
     "start_time": "2023-12-06T15:54:45.492644",
     "status": "completed"
    },
    "tags": []
   },
   "outputs": [],
   "source": [
    "# Ploting images with landmarks\n",
    "def plot_image_landmarks(img_array, df_landmarks, index):\n",
    "    plt.imshow(img_array[index, :, :, 0], cmap = 'gray')\n",
    "    plt.scatter(df_landmarks.iloc[index][0: -1: 2], df_landmarks.iloc[index][1: : 2], c = 'y')\n",
    "    plt.show()"
   ]
  },
  {
   "cell_type": "code",
   "execution_count": 3,
   "id": "4389deb1",
   "metadata": {
    "execution": {
     "iopub.execute_input": "2023-12-06T15:54:45.571153Z",
     "iopub.status.busy": "2023-12-06T15:54:45.570578Z",
     "iopub.status.idle": "2023-12-06T15:54:52.186259Z",
     "shell.execute_reply": "2023-12-06T15:54:52.186846Z",
     "shell.execute_reply.started": "2023-12-06T12:06:04.965105Z"
    },
    "papermill": {
     "duration": 6.642293,
     "end_time": "2023-12-06T15:54:52.187030",
     "exception": false,
     "start_time": "2023-12-06T15:54:45.544737",
     "status": "completed"
    },
    "tags": []
   },
   "outputs": [],
   "source": [
    "features = np.load('../input/face-images-with-marked-landmark-points/face_images.npz')\n",
    "features = features.get(features.files[0]) # images\n",
    "features = np.moveaxis(features, -1, 0)\n",
    "features = features.reshape(features.shape[0], features.shape[1], features.shape[1], 1)"
   ]
  },
  {
   "cell_type": "code",
   "execution_count": 4,
   "id": "e8607955",
   "metadata": {
    "execution": {
     "iopub.execute_input": "2023-12-06T15:54:52.235697Z",
     "iopub.status.busy": "2023-12-06T15:54:52.235069Z",
     "iopub.status.idle": "2023-12-06T15:54:52.544654Z",
     "shell.execute_reply": "2023-12-06T15:54:52.545119Z",
     "shell.execute_reply.started": "2023-12-06T12:06:09.378524Z"
    },
    "papermill": {
     "duration": 0.335797,
     "end_time": "2023-12-06T15:54:52.545277",
     "exception": false,
     "start_time": "2023-12-06T15:54:52.209480",
     "status": "completed"
    },
    "tags": []
   },
   "outputs": [
    {
     "data": {
      "text/html": [
       "<div>\n",
       "<style scoped>\n",
       "    .dataframe tbody tr th:only-of-type {\n",
       "        vertical-align: middle;\n",
       "    }\n",
       "\n",
       "    .dataframe tbody tr th {\n",
       "        vertical-align: top;\n",
       "    }\n",
       "\n",
       "    .dataframe thead th {\n",
       "        text-align: right;\n",
       "    }\n",
       "</style>\n",
       "<table border=\"1\" class=\"dataframe\">\n",
       "  <thead>\n",
       "    <tr style=\"text-align: right;\">\n",
       "      <th></th>\n",
       "      <th>left_eye_center_x</th>\n",
       "      <th>left_eye_center_y</th>\n",
       "      <th>right_eye_center_x</th>\n",
       "      <th>right_eye_center_y</th>\n",
       "      <th>left_eye_inner_corner_x</th>\n",
       "      <th>left_eye_inner_corner_y</th>\n",
       "      <th>left_eye_outer_corner_x</th>\n",
       "      <th>left_eye_outer_corner_y</th>\n",
       "      <th>right_eye_inner_corner_x</th>\n",
       "      <th>right_eye_inner_corner_y</th>\n",
       "      <th>...</th>\n",
       "      <th>nose_tip_x</th>\n",
       "      <th>nose_tip_y</th>\n",
       "      <th>mouth_left_corner_x</th>\n",
       "      <th>mouth_left_corner_y</th>\n",
       "      <th>mouth_right_corner_x</th>\n",
       "      <th>mouth_right_corner_y</th>\n",
       "      <th>mouth_center_top_lip_x</th>\n",
       "      <th>mouth_center_top_lip_y</th>\n",
       "      <th>mouth_center_bottom_lip_x</th>\n",
       "      <th>mouth_center_bottom_lip_y</th>\n",
       "    </tr>\n",
       "  </thead>\n",
       "  <tbody>\n",
       "    <tr>\n",
       "      <th>0</th>\n",
       "      <td>66.033564</td>\n",
       "      <td>39.002274</td>\n",
       "      <td>30.227008</td>\n",
       "      <td>36.421678</td>\n",
       "      <td>59.582075</td>\n",
       "      <td>39.647423</td>\n",
       "      <td>73.130346</td>\n",
       "      <td>39.969997</td>\n",
       "      <td>36.356571</td>\n",
       "      <td>37.389402</td>\n",
       "      <td>...</td>\n",
       "      <td>44.420571</td>\n",
       "      <td>57.066803</td>\n",
       "      <td>61.195308</td>\n",
       "      <td>79.970165</td>\n",
       "      <td>28.614496</td>\n",
       "      <td>77.388992</td>\n",
       "      <td>43.312602</td>\n",
       "      <td>72.935459</td>\n",
       "      <td>43.130707</td>\n",
       "      <td>84.485774</td>\n",
       "    </tr>\n",
       "    <tr>\n",
       "      <th>1</th>\n",
       "      <td>64.332936</td>\n",
       "      <td>34.970077</td>\n",
       "      <td>29.949277</td>\n",
       "      <td>33.448715</td>\n",
       "      <td>58.856170</td>\n",
       "      <td>35.274349</td>\n",
       "      <td>70.722723</td>\n",
       "      <td>36.187166</td>\n",
       "      <td>36.034723</td>\n",
       "      <td>34.361532</td>\n",
       "      <td>...</td>\n",
       "      <td>48.206298</td>\n",
       "      <td>55.660936</td>\n",
       "      <td>56.421447</td>\n",
       "      <td>76.352000</td>\n",
       "      <td>35.122383</td>\n",
       "      <td>76.047660</td>\n",
       "      <td>46.684596</td>\n",
       "      <td>70.266553</td>\n",
       "      <td>45.467915</td>\n",
       "      <td>85.480170</td>\n",
       "    </tr>\n",
       "    <tr>\n",
       "      <th>2</th>\n",
       "      <td>65.057053</td>\n",
       "      <td>34.909642</td>\n",
       "      <td>30.903789</td>\n",
       "      <td>34.909642</td>\n",
       "      <td>59.412000</td>\n",
       "      <td>36.320968</td>\n",
       "      <td>70.984421</td>\n",
       "      <td>36.320968</td>\n",
       "      <td>37.678105</td>\n",
       "      <td>36.320968</td>\n",
       "      <td>...</td>\n",
       "      <td>47.557263</td>\n",
       "      <td>53.538947</td>\n",
       "      <td>60.822947</td>\n",
       "      <td>73.014316</td>\n",
       "      <td>33.726316</td>\n",
       "      <td>72.732000</td>\n",
       "      <td>47.274947</td>\n",
       "      <td>70.191789</td>\n",
       "      <td>47.274947</td>\n",
       "      <td>78.659368</td>\n",
       "    </tr>\n",
       "    <tr>\n",
       "      <th>3</th>\n",
       "      <td>65.225739</td>\n",
       "      <td>37.261774</td>\n",
       "      <td>32.023096</td>\n",
       "      <td>37.261774</td>\n",
       "      <td>60.003339</td>\n",
       "      <td>39.127179</td>\n",
       "      <td>72.314713</td>\n",
       "      <td>38.380967</td>\n",
       "      <td>37.618643</td>\n",
       "      <td>38.754115</td>\n",
       "      <td>...</td>\n",
       "      <td>51.885078</td>\n",
       "      <td>54.166539</td>\n",
       "      <td>65.598887</td>\n",
       "      <td>72.703722</td>\n",
       "      <td>37.245496</td>\n",
       "      <td>74.195478</td>\n",
       "      <td>50.303165</td>\n",
       "      <td>70.091687</td>\n",
       "      <td>51.561183</td>\n",
       "      <td>78.268383</td>\n",
       "    </tr>\n",
       "    <tr>\n",
       "      <th>4</th>\n",
       "      <td>66.725301</td>\n",
       "      <td>39.621261</td>\n",
       "      <td>32.244810</td>\n",
       "      <td>38.042032</td>\n",
       "      <td>58.565890</td>\n",
       "      <td>39.621261</td>\n",
       "      <td>72.515926</td>\n",
       "      <td>39.884466</td>\n",
       "      <td>36.982380</td>\n",
       "      <td>39.094852</td>\n",
       "      <td>...</td>\n",
       "      <td>43.299534</td>\n",
       "      <td>64.889521</td>\n",
       "      <td>60.671411</td>\n",
       "      <td>77.523239</td>\n",
       "      <td>31.191755</td>\n",
       "      <td>76.997301</td>\n",
       "      <td>44.962748</td>\n",
       "      <td>73.707387</td>\n",
       "      <td>44.227141</td>\n",
       "      <td>86.871166</td>\n",
       "    </tr>\n",
       "  </tbody>\n",
       "</table>\n",
       "<p>5 rows × 30 columns</p>\n",
       "</div>"
      ],
      "text/plain": [
       "   left_eye_center_x  left_eye_center_y  right_eye_center_x  \\\n",
       "0          66.033564          39.002274           30.227008   \n",
       "1          64.332936          34.970077           29.949277   \n",
       "2          65.057053          34.909642           30.903789   \n",
       "3          65.225739          37.261774           32.023096   \n",
       "4          66.725301          39.621261           32.244810   \n",
       "\n",
       "   right_eye_center_y  left_eye_inner_corner_x  left_eye_inner_corner_y  \\\n",
       "0           36.421678                59.582075                39.647423   \n",
       "1           33.448715                58.856170                35.274349   \n",
       "2           34.909642                59.412000                36.320968   \n",
       "3           37.261774                60.003339                39.127179   \n",
       "4           38.042032                58.565890                39.621261   \n",
       "\n",
       "   left_eye_outer_corner_x  left_eye_outer_corner_y  right_eye_inner_corner_x  \\\n",
       "0                73.130346                39.969997                 36.356571   \n",
       "1                70.722723                36.187166                 36.034723   \n",
       "2                70.984421                36.320968                 37.678105   \n",
       "3                72.314713                38.380967                 37.618643   \n",
       "4                72.515926                39.884466                 36.982380   \n",
       "\n",
       "   right_eye_inner_corner_y  ...  nose_tip_x  nose_tip_y  mouth_left_corner_x  \\\n",
       "0                 37.389402  ...   44.420571   57.066803            61.195308   \n",
       "1                 34.361532  ...   48.206298   55.660936            56.421447   \n",
       "2                 36.320968  ...   47.557263   53.538947            60.822947   \n",
       "3                 38.754115  ...   51.885078   54.166539            65.598887   \n",
       "4                 39.094852  ...   43.299534   64.889521            60.671411   \n",
       "\n",
       "   mouth_left_corner_y  mouth_right_corner_x  mouth_right_corner_y  \\\n",
       "0            79.970165             28.614496             77.388992   \n",
       "1            76.352000             35.122383             76.047660   \n",
       "2            73.014316             33.726316             72.732000   \n",
       "3            72.703722             37.245496             74.195478   \n",
       "4            77.523239             31.191755             76.997301   \n",
       "\n",
       "   mouth_center_top_lip_x  mouth_center_top_lip_y  mouth_center_bottom_lip_x  \\\n",
       "0               43.312602               72.935459                  43.130707   \n",
       "1               46.684596               70.266553                  45.467915   \n",
       "2               47.274947               70.191789                  47.274947   \n",
       "3               50.303165               70.091687                  51.561183   \n",
       "4               44.962748               73.707387                  44.227141   \n",
       "\n",
       "   mouth_center_bottom_lip_y  \n",
       "0                  84.485774  \n",
       "1                  85.480170  \n",
       "2                  78.659368  \n",
       "3                  78.268383  \n",
       "4                  86.871166  \n",
       "\n",
       "[5 rows x 30 columns]"
      ]
     },
     "execution_count": 4,
     "metadata": {},
     "output_type": "execute_result"
    }
   ],
   "source": [
    "keypoints = pd.read_csv('../input/face-images-with-marked-landmark-points/facial_keypoints.csv')\n",
    "keypoints.head()"
   ]
  },
  {
   "cell_type": "code",
   "execution_count": 5,
   "id": "96632dd8",
   "metadata": {
    "execution": {
     "iopub.execute_input": "2023-12-06T15:54:52.595977Z",
     "iopub.status.busy": "2023-12-06T15:54:52.595366Z",
     "iopub.status.idle": "2023-12-06T15:54:52.603541Z",
     "shell.execute_reply": "2023-12-06T15:54:52.603019Z",
     "shell.execute_reply.started": "2023-12-06T12:06:09.495273Z"
    },
    "papermill": {
     "duration": 0.035117,
     "end_time": "2023-12-06T15:54:52.603673",
     "exception": false,
     "start_time": "2023-12-06T15:54:52.568556",
     "status": "completed"
    },
    "tags": []
   },
   "outputs": [
    {
     "data": {
      "text/plain": [
       "0       0\n",
       "1       0\n",
       "2       0\n",
       "3       0\n",
       "4       0\n",
       "       ..\n",
       "7044    0\n",
       "7045    0\n",
       "7046    0\n",
       "7047    0\n",
       "7048    0\n",
       "Length: 7049, dtype: int64"
      ]
     },
     "execution_count": 5,
     "metadata": {},
     "output_type": "execute_result"
    }
   ],
   "source": [
    "# Cleaing data\n",
    "keypoints = keypoints.fillna(0)\n",
    "num_missing_keypoints = keypoints.isnull().sum(axis = 1)\n",
    "num_missing_keypoints"
   ]
  },
  {
   "cell_type": "code",
   "execution_count": 6,
   "id": "38b8577e",
   "metadata": {
    "execution": {
     "iopub.execute_input": "2023-12-06T15:54:52.653439Z",
     "iopub.status.busy": "2023-12-06T15:54:52.652840Z",
     "iopub.status.idle": "2023-12-06T15:54:53.056842Z",
     "shell.execute_reply": "2023-12-06T15:54:53.056277Z",
     "shell.execute_reply.started": "2023-12-06T12:06:09.511237Z"
    },
    "papermill": {
     "duration": 0.430294,
     "end_time": "2023-12-06T15:54:53.056987",
     "exception": false,
     "start_time": "2023-12-06T15:54:52.626693",
     "status": "completed"
    },
    "tags": []
   },
   "outputs": [],
   "source": [
    "new_features = features[keypoints.index.values, :, :, :] #Nums of rows,w, H, Channels\n",
    "new_features = new_features / 255\n",
    "keypoints.reset_index(inplace = True, drop = True)"
   ]
  },
  {
   "cell_type": "code",
   "execution_count": 7,
   "id": "5cd960e9",
   "metadata": {
    "execution": {
     "iopub.execute_input": "2023-12-06T15:54:53.123819Z",
     "iopub.status.busy": "2023-12-06T15:54:53.123185Z",
     "iopub.status.idle": "2023-12-06T15:54:53.271100Z",
     "shell.execute_reply": "2023-12-06T15:54:53.270496Z",
     "shell.execute_reply.started": "2023-12-06T12:06:10.207476Z"
    },
    "papermill": {
     "duration": 0.190999,
     "end_time": "2023-12-06T15:54:53.271229",
     "exception": false,
     "start_time": "2023-12-06T15:54:53.080230",
     "status": "completed"
    },
    "tags": []
   },
   "outputs": [
    {
     "data": {
      "image/png": "[encoded data removed]",
      "text/plain": [
       "<Figure size 432x288 with 1 Axes>"
      ]
     },
     "metadata": {
      "needs_background": "light"
     },
     "output_type": "display_data"
    }
   ],
   "source": [
    "plot_image_landmarks(new_features, keypoints, 3)"
   ]
  },
  {
   "cell_type": "code",
   "execution_count": 8,
   "id": "08ec79f7",
   "metadata": {
    "execution": {
     "iopub.execute_input": "2023-12-06T15:54:53.325775Z",
     "iopub.status.busy": "2023-12-06T15:54:53.325042Z",
     "iopub.status.idle": "2023-12-06T15:54:53.478774Z",
     "shell.execute_reply": "2023-12-06T15:54:53.478167Z",
     "shell.execute_reply.started": "2023-12-06T12:06:10.451812Z"
    },
    "papermill": {
     "duration": 0.182414,
     "end_time": "2023-12-06T15:54:53.478921",
     "exception": false,
     "start_time": "2023-12-06T15:54:53.296507",
     "status": "completed"
    },
    "tags": []
   },
   "outputs": [],
   "source": [
    "x_train, x_test, y_train, y_test = train_test_split(new_features, keypoints, test_size=0.2)"
   ]
  },
  {
   "cell_type": "markdown",
   "id": "e33c7497",
   "metadata": {
    "papermill": {
     "duration": 0.024534,
     "end_time": "2023-12-06T15:54:53.528859",
     "exception": false,
     "start_time": "2023-12-06T15:54:53.504325",
     "status": "completed"
    },
    "tags": []
   },
   "source": [
    "# **Our Model**"
   ]
  },
  {
   "cell_type": "code",
   "execution_count": 9,
   "id": "c1e87bf1",
   "metadata": {
    "execution": {
     "iopub.execute_input": "2023-12-06T15:54:53.583736Z",
     "iopub.status.busy": "2023-12-06T15:54:53.582872Z",
     "iopub.status.idle": "2023-12-06T15:54:53.681651Z",
     "shell.execute_reply": "2023-12-06T15:54:53.682091Z",
     "shell.execute_reply.started": "2023-12-06T12:06:10.627051Z"
    },
    "papermill": {
     "duration": 0.128584,
     "end_time": "2023-12-06T15:54:53.682238",
     "exception": false,
     "start_time": "2023-12-06T15:54:53.553654",
     "status": "completed"
    },
    "tags": []
   },
   "outputs": [],
   "source": [
    "from tqdm.keras import TqdmCallback\n",
    "from tensorflow.keras.models import Sequential\n",
    "from tensorflow.keras.layers import Input, Conv2D, MaxPooling2D, Flatten, Dense, Dropout, LeakyReLU, BatchNormalization\n",
    "from tensorflow.keras.initializers import glorot_uniform\n",
    "from tensorflow.keras.callbacks import ModelCheckpoint\n",
    "from tensorflow.keras.optimizers import SGD, Adam"
   ]
  },
  {
   "cell_type": "markdown",
   "id": "13c30ab7",
   "metadata": {
    "papermill": {
     "duration": 0.024486,
     "end_time": "2023-12-06T15:54:53.731453",
     "exception": false,
     "start_time": "2023-12-06T15:54:53.706967",
     "status": "completed"
    },
    "tags": []
   },
   "source": [
    "**kernel_initializer** in Keras : Initializers define the way to set the initial random weights of Keras layers.\n",
    "\n",
    "**glorot_uniform()** : It draws samples from a uniform distribution within [-limit, limit] where limit is sqrt(6 / (fan_in + fan_out)) where fan_in is the number of input units in the weight tensor and fan_out is the number of output units in the weight tensor.\n",
    "\n",
    "We are using **the Mean Squared Error** as we are performing a regression task. A small learning rate is always good if you have a good amount of data"
   ]
  },
  {
   "cell_type": "code",
   "execution_count": 10,
   "id": "82d1046b",
   "metadata": {
    "execution": {
     "iopub.execute_input": "2023-12-06T15:54:53.784677Z",
     "iopub.status.busy": "2023-12-06T15:54:53.783888Z",
     "iopub.status.idle": "2023-12-06T15:54:53.786678Z",
     "shell.execute_reply": "2023-12-06T15:54:53.786045Z",
     "shell.execute_reply.started": "2023-12-06T12:06:10.804923Z"
    },
    "papermill": {
     "duration": 0.030659,
     "end_time": "2023-12-06T15:54:53.786798",
     "exception": false,
     "start_time": "2023-12-06T15:54:53.756139",
     "status": "completed"
    },
    "tags": []
   },
   "outputs": [],
   "source": [
    "img_size = 96"
   ]
  },
  {
   "cell_type": "code",
   "execution_count": 11,
   "id": "daadd7e8",
   "metadata": {
    "execution": {
     "iopub.execute_input": "2023-12-06T15:54:53.847136Z",
     "iopub.status.busy": "2023-12-06T15:54:53.846555Z",
     "iopub.status.idle": "2023-12-06T15:54:56.202751Z",
     "shell.execute_reply": "2023-12-06T15:54:56.203236Z",
     "shell.execute_reply.started": "2023-12-06T12:06:10.811778Z"
    },
    "papermill": {
     "duration": 2.391964,
     "end_time": "2023-12-06T15:54:56.203430",
     "exception": false,
     "start_time": "2023-12-06T15:54:53.811466",
     "status": "completed"
    },
    "tags": []
   },
   "outputs": [
    {
     "name": "stdout",
     "output_type": "stream",
     "text": [
      "Model: \"sequential\"\n",
      "_________________________________________________________________\n",
      "Layer (type)                 Output Shape              Param #   \n",
      "=================================================================\n",
      "batch_normalization (BatchNo (None, 96, 96, 1)         4         \n",
      "_________________________________________________________________\n",
      "conv2d (Conv2D)              (None, 96, 96, 32)        320       \n",
      "_________________________________________________________________\n",
      "leaky_re_lu (LeakyReLU)      (None, 96, 96, 32)        0         \n",
      "_________________________________________________________________\n",
      "max_pooling2d (MaxPooling2D) (None, 48, 48, 32)        0         \n",
      "_________________________________________________________________\n",
      "dropout (Dropout)            (None, 48, 48, 32)        0         \n",
      "_________________________________________________________________\n",
      "batch_normalization_1 (Batch (None, 48, 48, 32)        128       \n",
      "_________________________________________________________________\n",
      "conv2d_1 (Conv2D)            (None, 48, 48, 64)        18496     \n",
      "_________________________________________________________________\n",
      "leaky_re_lu_1 (LeakyReLU)    (None, 48, 48, 64)        0         \n",
      "_________________________________________________________________\n",
      "max_pooling2d_1 (MaxPooling2 (None, 24, 24, 64)        0         \n",
      "_________________________________________________________________\n",
      "dropout_1 (Dropout)          (None, 24, 24, 64)        0         \n",
      "_________________________________________________________________\n",
      "batch_normalization_2 (Batch (None, 24, 24, 64)        256       \n",
      "_________________________________________________________________\n",
      "conv2d_2 (Conv2D)            (None, 24, 24, 128)       73856     \n",
      "_________________________________________________________________\n",
      "leaky_re_lu_2 (LeakyReLU)    (None, 24, 24, 128)       0         \n",
      "_________________________________________________________________\n",
      "max_pooling2d_2 (MaxPooling2 (None, 12, 12, 128)       0         \n",
      "_________________________________________________________________\n",
      "dropout_2 (Dropout)          (None, 12, 12, 128)       0         \n",
      "_________________________________________________________________\n",
      "flatten (Flatten)            (None, 18432)             0         \n",
      "_________________________________________________________________\n",
      "dense (Dense)                (None, 256)               4718848   \n",
      "_________________________________________________________________\n",
      "leaky_re_lu_3 (LeakyReLU)    (None, 256)               0         \n",
      "_________________________________________________________________\n",
      "dropout_3 (Dropout)          (None, 256)               0         \n",
      "_________________________________________________________________\n",
      "dense_1 (Dense)              (None, 64)                16448     \n",
      "_________________________________________________________________\n",
      "leaky_re_lu_4 (LeakyReLU)    (None, 64)                0         \n",
      "_________________________________________________________________\n",
      "dense_2 (Dense)              (None, 30)                1950      \n",
      "=================================================================\n",
      "Total params: 4,830,306\n",
      "Trainable params: 4,830,112\n",
      "Non-trainable params: 194\n",
      "_________________________________________________________________\n"
     ]
    }
   ],
   "source": [
    "model = Sequential()\n",
    "\n",
    "model.add(Input(shape=(img_size, img_size, 1)))\n",
    "model.add(BatchNormalization())\n",
    "model.add(Conv2D(32, (3,3), padding=\"same\",kernel_initializer=glorot_uniform()))\n",
    "model.add(LeakyReLU(alpha=0.1))\n",
    "model.add(MaxPooling2D(pool_size=(2, 2)))\n",
    "model.add(Dropout(0.2))\n",
    "\n",
    "model.add(BatchNormalization())\n",
    "model.add(Conv2D(64, (3,3), padding=\"same\",kernel_initializer=glorot_uniform()))\n",
    "model.add(LeakyReLU(alpha=0.1))\n",
    "model.add(MaxPooling2D(pool_size=(2, 2)))\n",
    "model.add(Dropout(0.2))\n",
    "\n",
    "model.add(BatchNormalization())\n",
    "model.add(Conv2D(128, (3,3), padding=\"same\",kernel_initializer=glorot_uniform()))\n",
    "model.add(LeakyReLU(alpha=0.1))\n",
    "model.add(MaxPooling2D(pool_size=(2, 2)))\n",
    "model.add(Dropout(0.2))  \n",
    "\n",
    "model.add(Flatten())\n",
    "model.add(Dense(256,kernel_initializer=glorot_uniform()))\n",
    "model.add(LeakyReLU(alpha=0.1))\n",
    "\n",
    "model.add(Dropout(0.5)) \n",
    "\n",
    "model.add(Dense(64,kernel_initializer=glorot_uniform()))\n",
    "model.add(LeakyReLU(alpha=0))\n",
    "\n",
    "model.add(Dense(30,kernel_initializer=glorot_uniform()))\n",
    "\n",
    "model.summary()\n",
    "model.compile(loss='mean_squared_error', optimizer=Adam(), metrics=['accuracy'])"
   ]
  },
  {
   "cell_type": "code",
   "execution_count": 12,
   "id": "7cb2f688",
   "metadata": {
    "execution": {
     "iopub.execute_input": "2023-12-06T15:54:56.258513Z",
     "iopub.status.busy": "2023-12-06T15:54:56.257627Z",
     "iopub.status.idle": "2023-12-06T15:54:56.259767Z",
     "shell.execute_reply": "2023-12-06T15:54:56.260198Z",
     "shell.execute_reply.started": "2023-12-06T12:06:11.362425Z"
    },
    "papermill": {
     "duration": 0.031053,
     "end_time": "2023-12-06T15:54:56.260345",
     "exception": false,
     "start_time": "2023-12-06T15:54:56.229292",
     "status": "completed"
    },
    "tags": []
   },
   "outputs": [],
   "source": [
    "BATCH_SIZE = 100\n",
    "EPOCHS = 50"
   ]
  },
  {
   "cell_type": "markdown",
   "id": "02fafc5c",
   "metadata": {
    "papermill": {
     "duration": 0.025078,
     "end_time": "2023-12-06T15:54:56.310508",
     "exception": false,
     "start_time": "2023-12-06T15:54:56.285430",
     "status": "completed"
    },
    "tags": []
   },
   "source": [
    "# **Training Model**"
   ]
  },
  {
   "cell_type": "code",
   "execution_count": 13,
   "id": "ef97f662",
   "metadata": {
    "execution": {
     "iopub.execute_input": "2023-12-06T15:54:56.365906Z",
     "iopub.status.busy": "2023-12-06T15:54:56.365271Z",
     "iopub.status.idle": "2023-12-06T15:56:20.755160Z",
     "shell.execute_reply": "2023-12-06T15:56:20.754513Z",
     "shell.execute_reply.started": "2023-12-06T12:06:11.370564Z"
    },
    "papermill": {
     "duration": 84.419648,
     "end_time": "2023-12-06T15:56:20.755303",
     "exception": false,
     "start_time": "2023-12-06T15:54:56.335655",
     "status": "completed"
    },
    "tags": []
   },
   "outputs": [
    {
     "name": "stdout",
     "output_type": "stream",
     "text": [
      "Epoch 1/50\n",
      "57/57 [==============================] - 10s 41ms/step - loss: 658.2438 - accuracy: 0.3778 - val_loss: 986.1217 - val_accuracy: 0.1433\n",
      "Epoch 2/50\n",
      "57/57 [==============================] - 2s 27ms/step - loss: 310.0855 - accuracy: 0.7485 - val_loss: 674.8552 - val_accuracy: 0.8844\n",
      "Epoch 3/50\n",
      "57/57 [==============================] - 2s 27ms/step - loss: 248.0791 - accuracy: 0.8225 - val_loss: 704.2824 - val_accuracy: 0.8844\n",
      "Epoch 4/50\n",
      "57/57 [==============================] - 2s 27ms/step - loss: 209.6672 - accuracy: 0.8467 - val_loss: 664.4667 - val_accuracy: 0.8844\n",
      "Epoch 5/50\n",
      "57/57 [==============================] - 2s 27ms/step - loss: 186.7314 - accuracy: 0.8457 - val_loss: 606.4196 - val_accuracy: 0.8844\n",
      "Epoch 6/50\n",
      "57/57 [==============================] - 2s 27ms/step - loss: 168.1977 - accuracy: 0.8443 - val_loss: 590.3371 - val_accuracy: 0.8844\n",
      "Epoch 7/50\n",
      "57/57 [==============================] - 2s 27ms/step - loss: 162.9589 - accuracy: 0.8392 - val_loss: 622.0390 - val_accuracy: 0.8844\n",
      "Epoch 8/50\n",
      "57/57 [==============================] - 2s 27ms/step - loss: 151.8888 - accuracy: 0.8504 - val_loss: 494.1176 - val_accuracy: 0.8844\n",
      "Epoch 9/50\n",
      "57/57 [==============================] - 2s 27ms/step - loss: 145.9206 - accuracy: 0.8420 - val_loss: 461.0386 - val_accuracy: 0.8844\n",
      "Epoch 10/50\n",
      "57/57 [==============================] - 2s 27ms/step - loss: 118.1484 - accuracy: 0.8547 - val_loss: 212.4374 - val_accuracy: 0.8816\n",
      "Epoch 11/50\n",
      "57/57 [==============================] - 2s 27ms/step - loss: 116.7119 - accuracy: 0.8470 - val_loss: 154.4601 - val_accuracy: 0.8801\n",
      "Epoch 12/50\n",
      "57/57 [==============================] - 2s 27ms/step - loss: 110.7037 - accuracy: 0.8423 - val_loss: 183.7524 - val_accuracy: 0.8809\n",
      "Epoch 13/50\n",
      "57/57 [==============================] - 2s 27ms/step - loss: 94.4651 - accuracy: 0.8512 - val_loss: 150.2627 - val_accuracy: 0.8809\n",
      "Epoch 14/50\n",
      "57/57 [==============================] - 2s 27ms/step - loss: 89.0473 - accuracy: 0.8422 - val_loss: 107.2758 - val_accuracy: 0.8603\n",
      "Epoch 15/50\n",
      "57/57 [==============================] - 2s 27ms/step - loss: 80.2813 - accuracy: 0.8370 - val_loss: 113.6219 - val_accuracy: 0.8702\n",
      "Epoch 16/50\n",
      "57/57 [==============================] - 2s 27ms/step - loss: 76.5702 - accuracy: 0.8636 - val_loss: 112.8412 - val_accuracy: 0.8638\n",
      "Epoch 17/50\n",
      "57/57 [==============================] - 2s 27ms/step - loss: 63.8516 - accuracy: 0.8397 - val_loss: 107.6180 - val_accuracy: 0.8596\n",
      "Epoch 18/50\n",
      "57/57 [==============================] - 2s 27ms/step - loss: 63.6985 - accuracy: 0.8441 - val_loss: 128.4185 - val_accuracy: 0.8135\n",
      "Epoch 19/50\n",
      "57/57 [==============================] - 2s 27ms/step - loss: 59.4460 - accuracy: 0.8335 - val_loss: 113.8990 - val_accuracy: 0.8624\n",
      "Epoch 20/50\n",
      "57/57 [==============================] - 2s 27ms/step - loss: 51.3124 - accuracy: 0.8470 - val_loss: 108.3257 - val_accuracy: 0.8624\n",
      "Epoch 21/50\n",
      "57/57 [==============================] - 2s 27ms/step - loss: 49.0628 - accuracy: 0.8447 - val_loss: 104.1908 - val_accuracy: 0.8284\n",
      "Epoch 22/50\n",
      "57/57 [==============================] - 2s 27ms/step - loss: 50.0212 - accuracy: 0.8457 - val_loss: 109.1034 - val_accuracy: 0.8723\n",
      "Epoch 23/50\n",
      "57/57 [==============================] - 2s 27ms/step - loss: 46.2345 - accuracy: 0.8535 - val_loss: 110.6694 - val_accuracy: 0.8326\n",
      "Epoch 24/50\n",
      "57/57 [==============================] - 2s 27ms/step - loss: 42.6020 - accuracy: 0.8452 - val_loss: 105.0575 - val_accuracy: 0.8574\n",
      "Epoch 25/50\n",
      "57/57 [==============================] - 2s 26ms/step - loss: 45.7849 - accuracy: 0.8467 - val_loss: 109.5178 - val_accuracy: 0.8631\n",
      "Epoch 26/50\n",
      "57/57 [==============================] - 2s 27ms/step - loss: 43.8708 - accuracy: 0.8346 - val_loss: 108.2446 - val_accuracy: 0.8582\n",
      "Epoch 27/50\n",
      "57/57 [==============================] - 2s 27ms/step - loss: 36.9829 - accuracy: 0.8569 - val_loss: 123.4704 - val_accuracy: 0.8823\n",
      "Epoch 28/50\n",
      "57/57 [==============================] - 2s 27ms/step - loss: 36.4632 - accuracy: 0.8444 - val_loss: 104.7042 - val_accuracy: 0.8695\n",
      "Epoch 29/50\n",
      "57/57 [==============================] - 2s 27ms/step - loss: 35.1226 - accuracy: 0.8447 - val_loss: 108.1194 - val_accuracy: 0.8730\n",
      "Epoch 30/50\n",
      "57/57 [==============================] - 2s 27ms/step - loss: 35.9448 - accuracy: 0.8587 - val_loss: 108.1509 - val_accuracy: 0.8723\n",
      "Epoch 31/50\n",
      "57/57 [==============================] - 2s 27ms/step - loss: 32.3807 - accuracy: 0.8533 - val_loss: 106.5691 - val_accuracy: 0.8681\n",
      "Epoch 32/50\n",
      "57/57 [==============================] - 2s 27ms/step - loss: 33.7813 - accuracy: 0.8540 - val_loss: 115.3331 - val_accuracy: 0.8759\n",
      "Epoch 33/50\n",
      "57/57 [==============================] - 2s 26ms/step - loss: 32.4934 - accuracy: 0.8512 - val_loss: 132.3310 - val_accuracy: 0.8759\n",
      "Epoch 34/50\n",
      "57/57 [==============================] - 2s 27ms/step - loss: 32.1269 - accuracy: 0.8618 - val_loss: 116.6750 - val_accuracy: 0.8702\n",
      "Epoch 35/50\n",
      "57/57 [==============================] - 2s 26ms/step - loss: 28.8520 - accuracy: 0.8524 - val_loss: 122.7617 - val_accuracy: 0.8631\n",
      "Epoch 36/50\n",
      "57/57 [==============================] - 2s 27ms/step - loss: 30.8354 - accuracy: 0.8610 - val_loss: 113.1872 - val_accuracy: 0.8759\n",
      "Epoch 37/50\n",
      "57/57 [==============================] - 2s 27ms/step - loss: 30.6572 - accuracy: 0.8650 - val_loss: 99.7610 - val_accuracy: 0.8624\n",
      "Epoch 38/50\n",
      "57/57 [==============================] - 2s 27ms/step - loss: 28.9383 - accuracy: 0.8523 - val_loss: 108.8077 - val_accuracy: 0.8816\n",
      "Epoch 39/50\n",
      "57/57 [==============================] - 2s 27ms/step - loss: 28.2546 - accuracy: 0.8442 - val_loss: 102.7888 - val_accuracy: 0.8716\n",
      "Epoch 40/50\n",
      "57/57 [==============================] - 2s 27ms/step - loss: 30.2131 - accuracy: 0.8474 - val_loss: 107.2733 - val_accuracy: 0.8688\n",
      "Epoch 41/50\n",
      "57/57 [==============================] - 2s 27ms/step - loss: 32.1642 - accuracy: 0.8437 - val_loss: 104.3711 - val_accuracy: 0.8816\n",
      "Epoch 42/50\n",
      "57/57 [==============================] - 2s 27ms/step - loss: 26.7778 - accuracy: 0.8610 - val_loss: 101.5937 - val_accuracy: 0.8589\n",
      "Epoch 43/50\n",
      "57/57 [==============================] - 2s 27ms/step - loss: 26.1944 - accuracy: 0.8469 - val_loss: 102.8341 - val_accuracy: 0.8816\n",
      "Epoch 44/50\n",
      "57/57 [==============================] - 2s 27ms/step - loss: 26.3895 - accuracy: 0.8521 - val_loss: 108.1212 - val_accuracy: 0.8745\n",
      "Epoch 45/50\n",
      "57/57 [==============================] - 2s 26ms/step - loss: 24.5329 - accuracy: 0.8615 - val_loss: 95.7703 - val_accuracy: 0.8766\n",
      "Epoch 46/50\n",
      "57/57 [==============================] - 2s 27ms/step - loss: 26.3141 - accuracy: 0.8642 - val_loss: 101.0914 - val_accuracy: 0.8794\n",
      "Epoch 47/50\n",
      "57/57 [==============================] - 2s 27ms/step - loss: 24.7745 - accuracy: 0.8624 - val_loss: 111.6005 - val_accuracy: 0.8787\n",
      "Epoch 48/50\n",
      "57/57 [==============================] - 2s 27ms/step - loss: 23.6117 - accuracy: 0.8617 - val_loss: 96.7223 - val_accuracy: 0.8752\n",
      "Epoch 49/50\n",
      "57/57 [==============================] - 2s 26ms/step - loss: 25.6550 - accuracy: 0.8534 - val_loss: 102.3830 - val_accuracy: 0.8752\n",
      "Epoch 50/50\n",
      "57/57 [==============================] - 2s 27ms/step - loss: 23.8359 - accuracy: 0.8639 - val_loss: 103.6948 - val_accuracy: 0.8752\n"
     ]
    }
   ],
   "source": [
    "history = model.fit(\n",
    "    x_train, y_train,\n",
    "    batch_size=BATCH_SIZE,\n",
    "    epochs=EPOCHS,\n",
    "    validation_data=(x_test, y_test),\n",
    "    shuffle=True,\n",
    "    verbose=1,\n",
    ")\n"
   ]
  },
  {
   "cell_type": "code",
   "execution_count": null,
   "id": "31af6128",
   "metadata": {
    "papermill": {
     "duration": 0.363369,
     "end_time": "2023-12-06T15:56:21.492524",
     "exception": false,
     "start_time": "2023-12-06T15:56:21.129155",
     "status": "completed"
    },
    "tags": []
   },
   "outputs": [],
   "source": []
  },
  {
   "cell_type": "code",
   "execution_count": 14,
   "id": "88c4339b",
   "metadata": {
    "execution": {
     "iopub.execute_input": "2023-12-06T15:56:22.197314Z",
     "iopub.status.busy": "2023-12-06T15:56:22.196275Z",
     "iopub.status.idle": "2023-12-06T15:56:22.199148Z",
     "shell.execute_reply": "2023-12-06T15:56:22.198548Z"
    },
    "papermill": {
     "duration": 0.357776,
     "end_time": "2023-12-06T15:56:22.199273",
     "exception": false,
     "start_time": "2023-12-06T15:56:21.841497",
     "status": "completed"
    },
    "tags": []
   },
   "outputs": [],
   "source": [
    "train_accuracy = history.history['accuracy']\n",
    "val_accuracy = history.history['val_accuracy']\n"
   ]
  },
  {
   "cell_type": "code",
   "execution_count": 15,
   "id": "18dc3dc5",
   "metadata": {
    "execution": {
     "iopub.execute_input": "2023-12-06T15:56:22.924180Z",
     "iopub.status.busy": "2023-12-06T15:56:22.920427Z",
     "iopub.status.idle": "2023-12-06T15:56:23.064122Z",
     "shell.execute_reply": "2023-12-06T15:56:23.063518Z"
    },
    "papermill": {
     "duration": 0.513031,
     "end_time": "2023-12-06T15:56:23.064250",
     "exception": false,
     "start_time": "2023-12-06T15:56:22.551219",
     "status": "completed"
    },
    "tags": []
   },
   "outputs": [
    {
     "data": {
      "image/png": "[encoded data removed]",
      "text/plain": [
       "<Figure size 432x288 with 1 Axes>"
      ]
     },
     "metadata": {
      "needs_background": "light"
     },
     "output_type": "display_data"
    }
   ],
   "source": [
    "plt.plot(history.history['accuracy'], label='Accuracy (training data)')\n",
    "plt.plot(history.history['val_accuracy'], label='Accuracy (validation data)')\n",
    "plt.title('Accuracy for Facial keypoints')\n",
    "plt.ylabel('Accuracy value')\n",
    "plt.xlabel('No. epoch')\n",
    "plt.legend(loc=\"upper left\")\n",
    "plt.show()"
   ]
  },
  {
   "cell_type": "code",
   "execution_count": 16,
   "id": "ae1f9aa9",
   "metadata": {
    "execution": {
     "iopub.execute_input": "2023-12-06T15:56:23.788509Z",
     "iopub.status.busy": "2023-12-06T15:56:23.787089Z",
     "iopub.status.idle": "2023-12-06T15:56:23.913581Z",
     "shell.execute_reply": "2023-12-06T15:56:23.913067Z",
     "shell.execute_reply.started": "2023-12-06T13:11:45.811640Z"
    },
    "papermill": {
     "duration": 0.498972,
     "end_time": "2023-12-06T15:56:23.913714",
     "exception": false,
     "start_time": "2023-12-06T15:56:23.414742",
     "status": "completed"
    },
    "tags": []
   },
   "outputs": [
    {
     "data": {
      "image/png": "[encoded data removed]",
      "text/plain": [
       "<Figure size 432x288 with 1 Axes>"
      ]
     },
     "metadata": {
      "needs_background": "light"
     },
     "output_type": "display_data"
    }
   ],
   "source": [
    "# plt.plot(history.history['mean_squared_error'], label='MSE (training data)')\n",
    "# plt.plot(history.history['val_mean_squared_error'], label='MSE (validation data)')\n",
    "plt.plot(history.history['loss'], label='MSE (training data)')\n",
    "plt.plot(history.history['val_loss'], label='MSE (validation data)')\n",
    "plt.title('MSE for Facial keypoints')\n",
    "plt.ylabel('MSE value')\n",
    "plt.xlabel('No. epoch')\n",
    "plt.legend(loc=\"upper left\")\n",
    "plt.show()"
   ]
  },
  {
   "cell_type": "markdown",
   "id": "41f4a343",
   "metadata": {
    "papermill": {
     "duration": 0.351227,
     "end_time": "2023-12-06T15:56:24.615886",
     "exception": false,
     "start_time": "2023-12-06T15:56:24.264659",
     "status": "completed"
    },
    "tags": []
   },
   "source": [
    "# **Model Evaluation**"
   ]
  },
  {
   "cell_type": "code",
   "execution_count": 17,
   "id": "ec947112",
   "metadata": {
    "execution": {
     "iopub.execute_input": "2023-12-06T15:56:25.321022Z",
     "iopub.status.busy": "2023-12-06T15:56:25.319816Z",
     "iopub.status.idle": "2023-12-06T15:56:25.684971Z",
     "shell.execute_reply": "2023-12-06T15:56:25.684440Z",
     "shell.execute_reply.started": "2023-12-06T13:11:46.011695Z"
    },
    "papermill": {
     "duration": 0.720503,
     "end_time": "2023-12-06T15:56:25.685120",
     "exception": false,
     "start_time": "2023-12-06T15:56:24.964617",
     "status": "completed"
    },
    "tags": []
   },
   "outputs": [
    {
     "data": {
      "text/plain": [
       "array([[62.837227  , 35.77003   , 29.597301  , ..., -1.8515764 ,\n",
       "        46.441372  , 72.28483   ],\n",
       "       [63.97188   , 34.659424  , 28.091797  , ...,  1.2565511 ,\n",
       "        46.33904   , 74.20793   ],\n",
       "       [63.81306   , 35.768635  , 27.669106  , ..., 69.75486   ,\n",
       "        46.229874  , 81.86933   ],\n",
       "       ...,\n",
       "       [60.356556  , 33.91932   , 28.171879  , ..., -0.6465422 ,\n",
       "        44.933678  , 69.020584  ],\n",
       "       [63.30507   , 35.44497   , 29.566433  , ..., -0.83454776,\n",
       "        47.265175  , 72.476326  ],\n",
       "       [62.86176   , 33.622066  , 28.233368  , ...,  3.6803064 ,\n",
       "        48.09639   , 71.35049   ]], dtype=float32)"
      ]
     },
     "execution_count": 17,
     "metadata": {},
     "output_type": "execute_result"
    }
   ],
   "source": [
    "y_pred = model.predict(x_test)\n",
    "y_pred"
   ]
  },
  {
   "cell_type": "code",
   "execution_count": 18,
   "id": "adbef395",
   "metadata": {
    "execution": {
     "iopub.execute_input": "2023-12-06T15:56:26.395764Z",
     "iopub.status.busy": "2023-12-06T15:56:26.394812Z",
     "iopub.status.idle": "2023-12-06T15:56:26.397838Z",
     "shell.execute_reply": "2023-12-06T15:56:26.397305Z",
     "shell.execute_reply.started": "2023-12-06T13:11:50.562878Z"
    },
    "papermill": {
     "duration": 0.361943,
     "end_time": "2023-12-06T15:56:26.397973",
     "exception": false,
     "start_time": "2023-12-06T15:56:26.036030",
     "status": "completed"
    },
    "tags": []
   },
   "outputs": [],
   "source": [
    "def plot_img_preds(images, truth, pred, index):\n",
    "    plt.imshow(images[index, :, :, 0], cmap = 'gray')\n",
    "    \n",
    "    t = np.array(truth)[index]\n",
    "    plt.scatter(t[0::2], t[1::2], c = 'y')\n",
    "    \n",
    "    p = pred[index, :]\n",
    "    plt.scatter(p[0::2], p[1::2], c = 'r')\n",
    "    \n",
    "    plt.show()"
   ]
  },
  {
   "cell_type": "code",
   "execution_count": 19,
   "id": "98297013",
   "metadata": {
    "execution": {
     "iopub.execute_input": "2023-12-06T15:56:27.147027Z",
     "iopub.status.busy": "2023-12-06T15:56:27.146094Z",
     "iopub.status.idle": "2023-12-06T15:56:27.148901Z",
     "shell.execute_reply": "2023-12-06T15:56:27.148292Z",
     "shell.execute_reply.started": "2023-12-06T13:11:50.571288Z"
    },
    "papermill": {
     "duration": 0.355446,
     "end_time": "2023-12-06T15:56:27.149023",
     "exception": false,
     "start_time": "2023-12-06T15:56:26.793577",
     "status": "completed"
    },
    "tags": []
   },
   "outputs": [],
   "source": [
    "# plot_img_preds(x_test, y_test, y_pred, 3)"
   ]
  },
  {
   "cell_type": "code",
   "execution_count": 20,
   "id": "c3ff960a",
   "metadata": {
    "execution": {
     "iopub.execute_input": "2023-12-06T15:56:27.858743Z",
     "iopub.status.busy": "2023-12-06T15:56:27.858083Z",
     "iopub.status.idle": "2023-12-06T15:56:27.861046Z",
     "shell.execute_reply": "2023-12-06T15:56:27.860566Z",
     "shell.execute_reply.started": "2023-12-06T13:11:50.587296Z"
    },
    "papermill": {
     "duration": 0.359013,
     "end_time": "2023-12-06T15:56:27.861182",
     "exception": false,
     "start_time": "2023-12-06T15:56:27.502169",
     "status": "completed"
    },
    "tags": []
   },
   "outputs": [],
   "source": [
    "# plot_img_preds(x_test, y_test, y_pred, 18)"
   ]
  },
  {
   "cell_type": "code",
   "execution_count": null,
   "id": "4c1a2d64",
   "metadata": {
    "papermill": {
     "duration": 0.354655,
     "end_time": "2023-12-06T15:56:28.568733",
     "exception": false,
     "start_time": "2023-12-06T15:56:28.214078",
     "status": "completed"
    },
    "tags": []
   },
   "outputs": [],
   "source": []
  }
 ],
 "metadata": {
  "kaggle": {
   "accelerator": "gpu",
   "dataSources": [
    {
     "datasetId": 2598,
     "sourceId": 4327,
     "sourceType": "datasetVersion"
    }
   ],
   "dockerImageVersionId": 30120,
   "isGpuEnabled": true,
   "isInternetEnabled": false,
   "language": "python",
   "sourceType": "notebook"
  },
  "kernelspec": {
   "display_name": "Python 3",
   "language": "python",
   "name": "python3"
  },
  "language_info": {
   "codemirror_mode": {
    "name": "ipython",
    "version": 3
   },
   "file_extension": ".py",
   "mimetype": "text/x-python",
   "name": "python",
   "nbconvert_exporter": "python",
   "pygments_lexer": "ipython3",
   "version": "3.7.10"
  },
  "papermill": {
   "default_parameters": {},
   "duration": 118.761517,
   "end_time": "2023-12-06T15:56:31.251043",
   "environment_variables": {},
   "exception": null,
   "input_path": "__notebook__.ipynb",
   "output_path": "__notebook__.ipynb",
   "parameters": {},
   "start_time": "2023-12-06T15:54:32.489526",
   "version": "2.3.3"
  }
 },
 "nbformat": 4,
 "nbformat_minor": 5
}
